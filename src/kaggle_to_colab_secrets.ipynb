{
  "nbformat": 4,
  "nbformat_minor": 0,
  "metadata": {
    "colab": {
      "provenance": []
    },
    "kernelspec": {
      "name": "python3",
      "display_name": "Python 3"
    },
    "language_info": {
      "name": "python"
    }
  },
  "cells": [
    {
      "cell_type": "code",
      "source": [
        "from google.colab import userdata\n",
        "kaggle_api = userdata.get('Kaggle')"
      ],
      "metadata": {
        "id": "hgQXTP1r4Ip9"
      },
      "execution_count": 1,
      "outputs": []
    },
    {
      "cell_type": "code",
      "source": [
        "from pathlib import Path\n",
        "\n",
        "target_path = Path('/root/.kaggle/kaggle.json')\n",
        "\n",
        "target_path.parent.mkdir(parents=True, exist_ok=True)\n",
        "\n",
        "with target_path.open('w') as target_file:\n",
        "  target_file.write(kaggle_api)\n"
      ],
      "metadata": {
        "id": "hymwdKX54Nrs"
      },
      "execution_count": 2,
      "outputs": []
    },
    {
      "cell_type": "code",
      "source": [
        "! chmod 600 /root/.kaggle/kaggle.json"
      ],
      "metadata": {
        "id": "qnI1E6b06xmX"
      },
      "execution_count": 3,
      "outputs": []
    },
    {
      "cell_type": "code",
      "source": [
        "! kaggle datasets download -d balabaskar/tom-and-jerry-image-classification"
      ],
      "metadata": {
        "colab": {
          "base_uri": "https://localhost:8080/"
        },
        "id": "RlOYqleV6_RO",
        "outputId": "a7eee2ca-35d5-49a7-81b4-717763254ffb"
      },
      "execution_count": 4,
      "outputs": [
        {
          "output_type": "stream",
          "name": "stdout",
          "text": [
            "Downloading tom-and-jerry-image-classification.zip to /content\n",
            "100% 433M/435M [00:03<00:00, 127MB/s]\n",
            "100% 435M/435M [00:03<00:00, 117MB/s]\n"
          ]
        }
      ]
    }
  ]
}